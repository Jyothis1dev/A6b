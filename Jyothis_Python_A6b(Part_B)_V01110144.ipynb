{
 "cells": [
  {
   "cell_type": "code",
   "execution_count": 11,
   "metadata": {},
   "outputs": [],
   "source": [
    "import os\n",
    "import pandas as pd\n",
    "import numpy as np\n",
    "from statsmodels.tsa.stattools import adfuller\n",
    "from statsmodels.tsa.vector_ar.vecm import coint_johansen, VECM\n",
    "from statsmodels.tsa.api import VAR\n",
    "import matplotlib.pyplot as plt"
   ]
  },
  {
   "cell_type": "code",
   "execution_count": 12,
   "metadata": {},
   "outputs": [],
   "source": [
    "# Load the dataset\n",
    "df = pd.read_excel(\"D:\\\\Assignments_SCMA632\\\\CMO-Historical-Data-Monthly.xlsx\", sheet_name='Monthly Prices', skiprows=6)"
   ]
  },
  {
   "cell_type": "code",
   "execution_count": 13,
   "metadata": {},
   "outputs": [],
   "source": [
    "# Rename the first column to \"Date\"\n",
    "df.rename(columns={df.columns[0]: 'Date'}, inplace=True)"
   ]
  },
  {
   "cell_type": "code",
   "execution_count": 14,
   "metadata": {},
   "outputs": [
    {
     "name": "stdout",
     "output_type": "stream",
     "text": [
      "<class 'pandas.core.frame.DataFrame'>\n",
      "RangeIndex: 774 entries, 0 to 773\n",
      "Data columns (total 72 columns):\n",
      " #   Column         Non-Null Count  Dtype         \n",
      "---  ------         --------------  -----         \n",
      " 0   Date           774 non-null    datetime64[ns]\n",
      " 1   CRUDE_PETRO    774 non-null    float64       \n",
      " 2   CRUDE_BRENT    774 non-null    float64       \n",
      " 3   CRUDE_DUBAI    774 non-null    float64       \n",
      " 4   CRUDE_WTI      774 non-null    object        \n",
      " 5   COAL_AUS       774 non-null    object        \n",
      " 6   COAL_SAFRICA   774 non-null    object        \n",
      " 7   NGAS_US        774 non-null    float64       \n",
      " 8   NGAS_EUR       774 non-null    float64       \n",
      " 9   NGAS_JP        774 non-null    object        \n",
      " 10  iNATGAS        774 non-null    object        \n",
      " 11  COCOA          774 non-null    float64       \n",
      " 12  COFFEE_ARABIC  774 non-null    float64       \n",
      " 13  COFFEE_ROBUS   774 non-null    float64       \n",
      " 14  TEA_AVG        774 non-null    float64       \n",
      " 15  TEA_COLOMBO    774 non-null    float64       \n",
      " 16  TEA_KOLKATA    774 non-null    float64       \n",
      " 17  TEA_MOMBASA    774 non-null    float64       \n",
      " 18  COCONUT_OIL    774 non-null    float64       \n",
      " 19  GRNUT          774 non-null    object        \n",
      " 20  FISH_MEAL      774 non-null    object        \n",
      " 21  GRNUT_OIL      774 non-null    float64       \n",
      " 22  PALM_OIL       774 non-null    float64       \n",
      " 23  PLMKRNL_OIL    774 non-null    object        \n",
      " 24  SOYBEANS       774 non-null    float64       \n",
      " 25  SOYBEAN_OIL    774 non-null    float64       \n",
      " 26  SOYBEAN_MEAL   774 non-null    float64       \n",
      " 27  RAPESEED_OIL   774 non-null    object        \n",
      " 28  SUNFLOWER_OIL  774 non-null    object        \n",
      " 29  BARLEY         774 non-null    object        \n",
      " 30  MAIZE          774 non-null    float64       \n",
      " 31  SORGHUM        774 non-null    object        \n",
      " 32  RICE_05        774 non-null    float64       \n",
      " 33  RICE_25        774 non-null    object        \n",
      " 34  RICE_A1        774 non-null    object        \n",
      " 35  RICE_05_VNM    774 non-null    object        \n",
      " 36  WHEAT_US_SRW   774 non-null    object        \n",
      " 37  WHEAT_US_HRW   774 non-null    float64       \n",
      " 38  BANANA_EU      774 non-null    object        \n",
      " 39  BANANA_US      774 non-null    float64       \n",
      " 40  ORANGE         774 non-null    float64       \n",
      " 41  BEEF           774 non-null    float64       \n",
      " 42  CHICKEN        774 non-null    float64       \n",
      " 43  LAMB           774 non-null    object        \n",
      " 44  SHRIMP_MEX     774 non-null    object        \n",
      " 45  SUGAR_EU       774 non-null    float64       \n",
      " 46  SUGAR_US       774 non-null    float64       \n",
      " 47  SUGAR_WLD      774 non-null    float64       \n",
      " 48  TOBAC_US       774 non-null    float64       \n",
      " 49  LOGS_CMR       774 non-null    object        \n",
      " 50  LOGS_MYS       774 non-null    float64       \n",
      " 51  SAWNWD_CMR     774 non-null    object        \n",
      " 52  SAWNWD_MYS     774 non-null    float64       \n",
      " 53  PLYWOOD        774 non-null    object        \n",
      " 54  COTTON_A_INDX  774 non-null    float64       \n",
      " 55  RUBBER_TSR20   774 non-null    object        \n",
      " 56  RUBBER1_MYSG   774 non-null    float64       \n",
      " 57  PHOSROCK       774 non-null    object        \n",
      " 58  DAP            774 non-null    object        \n",
      " 59  TSP            774 non-null    float64       \n",
      " 60  UREA_EE_BULK   774 non-null    float64       \n",
      " 61  POTASH         774 non-null    float64       \n",
      " 62  ALUMINUM       774 non-null    float64       \n",
      " 63  IRON_ORE       774 non-null    float64       \n",
      " 64  COPPER         774 non-null    float64       \n",
      " 65  LEAD           774 non-null    float64       \n",
      " 66  Tin            774 non-null    float64       \n",
      " 67  NICKEL         774 non-null    float64       \n",
      " 68  Zinc           774 non-null    float64       \n",
      " 69  GOLD           774 non-null    float64       \n",
      " 70  PLATINUM       774 non-null    float64       \n",
      " 71  SILVER         774 non-null    float64       \n",
      "dtypes: datetime64[ns](1), float64(46), object(25)\n",
      "memory usage: 435.5+ KB\n",
      "None\n"
     ]
    }
   ],
   "source": [
    "# Convert the Date column to datetime format\n",
    "df['Date'] = pd.to_datetime(df['Date'].astype(str) + '01', format='%YM%m%d')\n",
    "print(df.info())  # Check the structure of the dataframe"
   ]
  },
  {
   "cell_type": "code",
   "execution_count": 16,
   "metadata": {},
   "outputs": [],
   "source": [
    "# Select specific columns (Date and selected commodities)\n",
    "commodity = df[['Date', 'CRUDE_BRENT', 'SOYBEANS', 'GOLD', 'SILVER', 'SUGAR_US', 'WHEAT_US_HRW']]"
   ]
  },
  {
   "cell_type": "code",
   "execution_count": 17,
   "metadata": {},
   "outputs": [],
   "source": [
    "# Clean column names (optional, as Pandas automatically handles column names well)\n",
    "commodity.columns = commodity.columns.str.strip().str.lower().str.replace(' ', '_').str.replace('(', '').str.replace(')', '')"
   ]
  },
  {
   "cell_type": "code",
   "execution_count": 18,
   "metadata": {},
   "outputs": [
    {
     "name": "stdout",
     "output_type": "stream",
     "text": [
      "<class 'pandas.core.frame.DataFrame'>\n",
      "RangeIndex: 774 entries, 0 to 773\n",
      "Data columns (total 7 columns):\n",
      " #   Column        Non-Null Count  Dtype         \n",
      "---  ------        --------------  -----         \n",
      " 0   date          774 non-null    datetime64[ns]\n",
      " 1   crude_brent   774 non-null    float64       \n",
      " 2   soybeans      774 non-null    float64       \n",
      " 3   gold          774 non-null    float64       \n",
      " 4   silver        774 non-null    float64       \n",
      " 5   sugar_us      774 non-null    float64       \n",
      " 6   wheat_us_hrw  774 non-null    float64       \n",
      "dtypes: datetime64[ns](1), float64(6)\n",
      "memory usage: 42.5 KB\n",
      "None\n"
     ]
    }
   ],
   "source": [
    "print(commodity.info())  # Check the structure of the cleaned dataframe"
   ]
  },
  {
   "cell_type": "code",
   "execution_count": 19,
   "metadata": {},
   "outputs": [],
   "source": [
    "# Remove the Date column for analysis\n",
    "commodity_data = commodity.drop(columns=['date'])"
   ]
  },
  {
   "cell_type": "code",
   "execution_count": 20,
   "metadata": {},
   "outputs": [],
   "source": [
    "# Column names to test (if you want to specify particular columns)\n",
    "columns_to_test = commodity_data.columns"
   ]
  },
  {
   "cell_type": "code",
   "execution_count": 21,
   "metadata": {},
   "outputs": [],
   "source": [
    "# Initialize counters and lists for stationary and non-stationary columns\n",
    "non_stationary_count = 0\n",
    "stationary_columns = []\n",
    "non_stationary_columns = []"
   ]
  },
  {
   "cell_type": "code",
   "execution_count": 22,
   "metadata": {},
   "outputs": [
    {
     "name": "stdout",
     "output_type": "stream",
     "text": [
      "\n",
      "ADF test result for column: crude_brent\n",
      "\n",
      "Test Statistic: -1.5078661910935385\n",
      "P-value: 0.5296165197702377\n",
      "Critical Values: {'1%': -3.439006442437876, '5%': -2.865360521688131, '10%': -2.5688044403756587}\n",
      "\n",
      "ADF test result for column: soybeans\n",
      "\n",
      "Test Statistic: -2.423146452741887\n",
      "P-value: 0.13530977427790458\n",
      "Critical Values: {'1%': -3.4388599939707056, '5%': -2.865295977855759, '10%': -2.5687700561872413}\n",
      "\n",
      "ADF test result for column: gold\n",
      "\n",
      "Test Statistic: 1.3430517021932975\n",
      "P-value: 0.9968394353612381\n",
      "Critical Values: {'1%': -3.4389608473398194, '5%': -2.8653404270188476, '10%': -2.568793735369693}\n",
      "\n",
      "ADF test result for column: silver\n",
      "\n",
      "Test Statistic: -1.39729471074622\n",
      "P-value: 0.5835723787985774\n",
      "Critical Values: {'1%': -3.438915730045254, '5%': -2.8653205426302253, '10%': -2.5687831424305845}\n",
      "\n",
      "ADF test result for column: sugar_us\n",
      "\n",
      "Test Statistic: -2.2767759143965183\n",
      "P-value: 0.17956762453056102\n",
      "Critical Values: {'1%': -3.4389608473398194, '5%': -2.8653404270188476, '10%': -2.568793735369693}\n",
      "\n",
      "ADF test result for column: wheat_us_hrw\n",
      "\n",
      "Test Statistic: -2.499023881611957\n",
      "P-value: 0.11571200558506373\n",
      "Critical Values: {'1%': -3.438915730045254, '5%': -2.8653205426302253, '10%': -2.5687831424305845}\n"
     ]
    }
   ],
   "source": [
    "# Loop through each column and perform the ADF test\n",
    "for col in columns_to_test:\n",
    "    adf_result = adfuller(commodity_data[col])\n",
    "    p_value = adf_result[1]  # Extract p-value for the test\n",
    "    print(f\"\\nADF test result for column: {col}\\n\")\n",
    "    print(f\"Test Statistic: {adf_result[0]}\")\n",
    "    print(f\"P-value: {p_value}\")\n",
    "    print(f\"Critical Values: {adf_result[4]}\")"
   ]
  },
  {
   "cell_type": "code",
   "execution_count": 27,
   "metadata": {},
   "outputs": [],
   "source": [
    "# Check if the p-value is greater than 0.05 (commonly used threshold)\n",
    "if p_value > 0.05:\n",
    "        non_stationary_count += 1\n",
    "        non_stationary_columns.append(col)\n",
    "else:\n",
    "        stationary_columns.append(col)"
   ]
  },
  {
   "cell_type": "code",
   "execution_count": null,
   "metadata": {},
   "outputs": [],
   "source": [
    "# Print the number of non-stationary columns and the lists of stationary and non-stationary columns\n",
    "print(f\"\\nNumber of non-stationary columns: {non_stationary_count}\\n\")\n",
    "print(f\"Non-stationary columns: {non_stationary_columns}\\n\")\n",
    "print(f\"Stationary columns: {stationary_columns}\")"
   ]
  },
  {
   "cell_type": "code",
   "execution_count": null,
   "metadata": {},
   "outputs": [],
   "source": [
    "# Co-Integration Test (Johansen's Test)\n",
    "# Perform Johansen's Co-Integration Test\n",
    "johansen_test = coint_johansen(commodity_data, det_order=0, k_ar_diff=1)\n",
    "\n",
    "# Summary of the Co-Integration Test\n",
    "print(\"\\nJohansen Test Results:\\n\")\n",
    "print(f\"Eigenvalues:\\n{johansen_test.eig}\\n\")\n",
    "print(f\"Trace Statistic:\\n{johansen_test.lr1}\\n\")\n",
    "print(f\"Critical Values (5% level):\\n{johansen_test.cvt[:, 1]}\\n\")"
   ]
  },
  {
   "cell_type": "code",
   "execution_count": 10,
   "metadata": {
    "colab": {
     "base_uri": "https://localhost:8080/",
     "height": 1000
    },
    "id": "2sIAZA7LUq8L",
    "outputId": "3db0a860-9e66-4b04-ea67-1b2c77c975f4"
   },
   "outputs": [
    {
     "ename": "ValueError",
     "evalue": "time data \"1960-01-0101\" doesn't match format \"%YM%m%d\", at position 0. You might want to try:\n    - passing `format` if your strings have a consistent format;\n    - passing `format='ISO8601'` if your strings are all ISO8601 but not necessarily in exactly the same format;\n    - passing `format='mixed'`, and the format will be inferred for each element individually. You might want to use `dayfirst` alongside this.",
     "output_type": "error",
     "traceback": [
      "\u001b[1;31m---------------------------------------------------------------------------\u001b[0m",
      "\u001b[1;31mValueError\u001b[0m                                Traceback (most recent call last)",
      "Cell \u001b[1;32mIn[10], line 4\u001b[0m\n\u001b[0;32m      2\u001b[0m df\u001b[38;5;241m.\u001b[39mrename(columns\u001b[38;5;241m=\u001b[39m{df\u001b[38;5;241m.\u001b[39mcolumns[\u001b[38;5;241m0\u001b[39m]: \u001b[38;5;124m'\u001b[39m\u001b[38;5;124mDate\u001b[39m\u001b[38;5;124m'\u001b[39m}, inplace\u001b[38;5;241m=\u001b[39m\u001b[38;5;28;01mTrue\u001b[39;00m)\n\u001b[0;32m      3\u001b[0m \u001b[38;5;66;03m# Convert the Date column to datetime format\u001b[39;00m\n\u001b[1;32m----> 4\u001b[0m df[\u001b[38;5;124m'\u001b[39m\u001b[38;5;124mDate\u001b[39m\u001b[38;5;124m'\u001b[39m] \u001b[38;5;241m=\u001b[39m pd\u001b[38;5;241m.\u001b[39mto_datetime(df[\u001b[38;5;124m'\u001b[39m\u001b[38;5;124mDate\u001b[39m\u001b[38;5;124m'\u001b[39m]\u001b[38;5;241m.\u001b[39mastype(\u001b[38;5;28mstr\u001b[39m) \u001b[38;5;241m+\u001b[39m \u001b[38;5;124m'\u001b[39m\u001b[38;5;124m01\u001b[39m\u001b[38;5;124m'\u001b[39m, \u001b[38;5;28mformat\u001b[39m\u001b[38;5;241m=\u001b[39m\u001b[38;5;124m'\u001b[39m\u001b[38;5;124m%\u001b[39m\u001b[38;5;124mYM\u001b[39m\u001b[38;5;124m%\u001b[39m\u001b[38;5;124mm\u001b[39m\u001b[38;5;132;01m%d\u001b[39;00m\u001b[38;5;124m'\u001b[39m)\n\u001b[0;32m      5\u001b[0m \u001b[38;5;28mprint\u001b[39m(df\u001b[38;5;241m.\u001b[39minfo())  \u001b[38;5;66;03m# Check the structure of the dataframe\u001b[39;00m\n\u001b[0;32m      7\u001b[0m \u001b[38;5;66;03m# Select specific columns (Date and selected commodities)\u001b[39;00m\n",
      "File \u001b[1;32m~\\anaconda3\\Lib\\site-packages\\pandas\\core\\tools\\datetimes.py:1112\u001b[0m, in \u001b[0;36mto_datetime\u001b[1;34m(arg, errors, dayfirst, yearfirst, utc, format, exact, unit, infer_datetime_format, origin, cache)\u001b[0m\n\u001b[0;32m   1110\u001b[0m         result \u001b[38;5;241m=\u001b[39m arg\u001b[38;5;241m.\u001b[39mmap(cache_array)\n\u001b[0;32m   1111\u001b[0m     \u001b[38;5;28;01melse\u001b[39;00m:\n\u001b[1;32m-> 1112\u001b[0m         values \u001b[38;5;241m=\u001b[39m convert_listlike(arg\u001b[38;5;241m.\u001b[39m_values, \u001b[38;5;28mformat\u001b[39m)\n\u001b[0;32m   1113\u001b[0m         result \u001b[38;5;241m=\u001b[39m arg\u001b[38;5;241m.\u001b[39m_constructor(values, index\u001b[38;5;241m=\u001b[39marg\u001b[38;5;241m.\u001b[39mindex, name\u001b[38;5;241m=\u001b[39marg\u001b[38;5;241m.\u001b[39mname)\n\u001b[0;32m   1114\u001b[0m \u001b[38;5;28;01melif\u001b[39;00m \u001b[38;5;28misinstance\u001b[39m(arg, (ABCDataFrame, abc\u001b[38;5;241m.\u001b[39mMutableMapping)):\n",
      "File \u001b[1;32m~\\anaconda3\\Lib\\site-packages\\pandas\\core\\tools\\datetimes.py:488\u001b[0m, in \u001b[0;36m_convert_listlike_datetimes\u001b[1;34m(arg, format, name, utc, unit, errors, dayfirst, yearfirst, exact)\u001b[0m\n\u001b[0;32m    486\u001b[0m \u001b[38;5;66;03m# `format` could be inferred, or user didn't ask for mixed-format parsing.\u001b[39;00m\n\u001b[0;32m    487\u001b[0m \u001b[38;5;28;01mif\u001b[39;00m \u001b[38;5;28mformat\u001b[39m \u001b[38;5;129;01mis\u001b[39;00m \u001b[38;5;129;01mnot\u001b[39;00m \u001b[38;5;28;01mNone\u001b[39;00m \u001b[38;5;129;01mand\u001b[39;00m \u001b[38;5;28mformat\u001b[39m \u001b[38;5;241m!=\u001b[39m \u001b[38;5;124m\"\u001b[39m\u001b[38;5;124mmixed\u001b[39m\u001b[38;5;124m\"\u001b[39m:\n\u001b[1;32m--> 488\u001b[0m     \u001b[38;5;28;01mreturn\u001b[39;00m _array_strptime_with_fallback(arg, name, utc, \u001b[38;5;28mformat\u001b[39m, exact, errors)\n\u001b[0;32m    490\u001b[0m result, tz_parsed \u001b[38;5;241m=\u001b[39m objects_to_datetime64ns(\n\u001b[0;32m    491\u001b[0m     arg,\n\u001b[0;32m    492\u001b[0m     dayfirst\u001b[38;5;241m=\u001b[39mdayfirst,\n\u001b[1;32m   (...)\u001b[0m\n\u001b[0;32m    496\u001b[0m     allow_object\u001b[38;5;241m=\u001b[39m\u001b[38;5;28;01mTrue\u001b[39;00m,\n\u001b[0;32m    497\u001b[0m )\n\u001b[0;32m    499\u001b[0m \u001b[38;5;28;01mif\u001b[39;00m tz_parsed \u001b[38;5;129;01mis\u001b[39;00m \u001b[38;5;129;01mnot\u001b[39;00m \u001b[38;5;28;01mNone\u001b[39;00m:\n\u001b[0;32m    500\u001b[0m     \u001b[38;5;66;03m# We can take a shortcut since the datetime64 numpy array\u001b[39;00m\n\u001b[0;32m    501\u001b[0m     \u001b[38;5;66;03m# is in UTC\u001b[39;00m\n",
      "File \u001b[1;32m~\\anaconda3\\Lib\\site-packages\\pandas\\core\\tools\\datetimes.py:519\u001b[0m, in \u001b[0;36m_array_strptime_with_fallback\u001b[1;34m(arg, name, utc, fmt, exact, errors)\u001b[0m\n\u001b[0;32m    508\u001b[0m \u001b[38;5;28;01mdef\u001b[39;00m \u001b[38;5;21m_array_strptime_with_fallback\u001b[39m(\n\u001b[0;32m    509\u001b[0m     arg,\n\u001b[0;32m    510\u001b[0m     name,\n\u001b[1;32m   (...)\u001b[0m\n\u001b[0;32m    514\u001b[0m     errors: \u001b[38;5;28mstr\u001b[39m,\n\u001b[0;32m    515\u001b[0m ) \u001b[38;5;241m-\u001b[39m\u001b[38;5;241m>\u001b[39m Index:\n\u001b[0;32m    516\u001b[0m \u001b[38;5;250m    \u001b[39m\u001b[38;5;124;03m\"\"\"\u001b[39;00m\n\u001b[0;32m    517\u001b[0m \u001b[38;5;124;03m    Call array_strptime, with fallback behavior depending on 'errors'.\u001b[39;00m\n\u001b[0;32m    518\u001b[0m \u001b[38;5;124;03m    \"\"\"\u001b[39;00m\n\u001b[1;32m--> 519\u001b[0m     result, timezones \u001b[38;5;241m=\u001b[39m array_strptime(arg, fmt, exact\u001b[38;5;241m=\u001b[39mexact, errors\u001b[38;5;241m=\u001b[39merrors, utc\u001b[38;5;241m=\u001b[39mutc)\n\u001b[0;32m    520\u001b[0m     \u001b[38;5;28;01mif\u001b[39;00m \u001b[38;5;28many\u001b[39m(tz \u001b[38;5;129;01mis\u001b[39;00m \u001b[38;5;129;01mnot\u001b[39;00m \u001b[38;5;28;01mNone\u001b[39;00m \u001b[38;5;28;01mfor\u001b[39;00m tz \u001b[38;5;129;01min\u001b[39;00m timezones):\n\u001b[0;32m    521\u001b[0m         \u001b[38;5;28;01mreturn\u001b[39;00m _return_parsed_timezone_results(result, timezones, utc, name)\n",
      "File \u001b[1;32mstrptime.pyx:534\u001b[0m, in \u001b[0;36mpandas._libs.tslibs.strptime.array_strptime\u001b[1;34m()\u001b[0m\n",
      "File \u001b[1;32mstrptime.pyx:355\u001b[0m, in \u001b[0;36mpandas._libs.tslibs.strptime.array_strptime\u001b[1;34m()\u001b[0m\n",
      "\u001b[1;31mValueError\u001b[0m: time data \"1960-01-0101\" doesn't match format \"%YM%m%d\", at position 0. You might want to try:\n    - passing `format` if your strings have a consistent format;\n    - passing `format='ISO8601'` if your strings are all ISO8601 but not necessarily in exactly the same format;\n    - passing `format='mixed'`, and the format will be inferred for each element individually. You might want to use `dayfirst` alongside this."
     ]
    }
   ],
   "source": [
    "# Determine the number of co-integrating relationships (r) based on the test\n",
    "r = 2  # Replace with the actual number from the test results\n",
    "\n",
    "if r > 0:\n",
    "    # If co-integration exists, estimate the VECM model\n",
    "    vecm_model = VECM(commodity_data, k_ar_diff=1, coint_rank=r, deterministic='co')\n",
    "    vecm_fitted = vecm_model.fit()\n",
    "\n",
    "    # Summary of the VECM model\n",
    "    print(vecm_fitted.summary())\n",
    "\n",
    "    # Extracting coefficients from the VECM model\n",
    "    print(\"Alpha Coefficients:\\n\", vecm_fitted.alpha)\n",
    "    print(\"Beta Coefficients:\\n\", vecm_fitted.beta)\n",
    "    print(\"Gamma Coefficients:\\n\", vecm_fitted.gamma)\n",
    "\n",
    "    # Forecasting using the VECM model\n",
    "    forecast = vecm_fitted.predict(steps=24)\n",
    "\n",
    "    # Convert forecast to a DataFrame for plotting\n",
    "    forecast_df = pd.DataFrame(forecast, index=pd.date_range(start=commodity_data.index[-1], periods=25, freq='M')[1:], columns=commodity_data.columns)\n",
    "\n",
    "    # Plotting the forecast\n",
    "    forecast_df.plot(figsize=(10, 5))\n",
    "    plt.title('VECM Forecast')\n",
    "    plt.xlabel('Time')\n",
    "    plt.ylabel('Values')\n",
    "    plt.show()\n",
    "\n",
    "else:\n",
    "    # If no co-integration exists, proceed with Unrestricted VAR Analysis\n",
    "    var_model = VAR(commodity_data)\n",
    "    var_fitted = var_model.fit(maxlags=10, ic='aic')\n",
    "\n",
    "    # Summary of the VAR model\n",
    "    print(var_fitted.summary())\n",
    "\n",
    "    # Granger causality test\n",
    "    for col in commodity_data.columns:\n",
    "        granger_result = var_fitted.test_causality(causing=col, caused=[c for c in commodity_data.columns if c != col])\n",
    "        print(f\"Granger causality test for {col}:\\n\", granger_result.summary())\n",
    "\n",
    "    # Forecasting using the VAR model\n",
    "    var_forecast = var_fitted.forecast(var_fitted.y, steps=24)\n",
    "    var_forecast_df = pd.DataFrame(var_forecast, index=pd.date_range(start=commodity_data.index[-1], periods=25, freq='M')[1:], columns=commodity_data.columns)\n",
    "\n",
    "    # Plotting the forecast\n",
    "    var_forecast_df.plot(figsize=(10, 5))\n",
    "    plt.title('VAR Forecast')\n",
    "    plt.xlabel('Time')\n",
    "    plt.ylabel('Values')\n",
    "    plt.show()"
   ]
  },
  {
   "cell_type": "code",
   "execution_count": 4,
   "metadata": {
    "colab": {
     "base_uri": "https://localhost:8080/"
    },
    "id": "cHEUGxNlV3oy",
    "outputId": "e4279849-b8c8-4a20-84ee-5d8a318b93f3"
   },
   "outputs": [
    {
     "name": "stdout",
     "output_type": "stream",
     "text": [
      "['__class__', '__delattr__', '__dict__', '__dir__', '__doc__', '__eq__', '__format__', '__ge__', '__getattribute__', '__gt__', '__hash__', '__init__', '__init_subclass__', '__le__', '__lt__', '__module__', '__ne__', '__new__', '__reduce__', '__reduce_ex__', '__repr__', '__setattr__', '__sizeof__', '__str__', '__subclasshook__', '__weakref__', '_cache', '_chol_sigma_u', '_cov_sigma', '_delta_x', '_delta_y_1_T', '_make_conf_int', '_y_lag1', 'alpha', 'beta', 'coint_rank', 'conf_int_alpha', 'conf_int_beta', 'conf_int_det_coef', 'conf_int_det_coef_coint', 'conf_int_gamma', 'const', 'const_coint', 'cov_params_default', 'cov_params_wo_det', 'cov_var_repr', 'dates', 'det_coef', 'det_coef_coint', 'deterministic', 'exog', 'exog_coefs', 'exog_coint', 'exog_coint_coefs', 'first_season', 'fittedvalues', 'gamma', 'irf', 'k_ar', 'lin_trend', 'lin_trend_coint', 'llf', 'ma_rep', 'model', 'names', 'neqs', 'nobs', 'orth_ma_rep', 'plot_data', 'plot_forecast', 'predict', 'pvalues_alpha', 'pvalues_beta', 'pvalues_det_coef', 'pvalues_det_coef_coint', 'pvalues_gamma', 'resid', 'seasonal', 'seasons', 'sigma_u', 'stderr_alpha', 'stderr_beta', 'stderr_coint', 'stderr_det_coef', 'stderr_det_coef_coint', 'stderr_gamma', 'stderr_params', 'summary', 'test_granger_causality', 'test_inst_causality', 'test_normality', 'test_whiteness', 'tvalues_alpha', 'tvalues_beta', 'tvalues_det_coef', 'tvalues_det_coef_coint', 'tvalues_gamma', 'var_rep', 'y_all']\n"
     ]
    }
   ],
   "source": [
    "# Check all available attributes\n",
    "print(dir(vecm_fitted))"
   ]
  },
  {
   "cell_type": "code",
   "execution_count": 5,
   "metadata": {
    "colab": {
     "base_uri": "https://localhost:8080/"
    },
    "id": "XNL82MPoV37i",
    "outputId": "027d03c2-31af-4d6a-85ba-e87e6fc52758"
   },
   "outputs": [
    {
     "name": "stdout",
     "output_type": "stream",
     "text": [
      "Det. terms outside the coint. relation & lagged endog. parameters for equation crude_brent\n",
      "===================================================================================\n",
      "                      coef    std err          z      P>|z|      [0.025      0.975]\n",
      "-----------------------------------------------------------------------------------\n",
      "const              -0.2692      0.219     -1.230      0.219      -0.698       0.160\n",
      "L1.crude_brent      0.3250      0.037      8.843      0.000       0.253       0.397\n",
      "L1.soybeans         0.0049      0.008      0.648      0.517      -0.010       0.020\n",
      "L1.gold            -0.0013      0.006     -0.218      0.828      -0.013       0.011\n",
      "L1.silver          -0.1049      0.149     -0.706      0.480      -0.396       0.186\n",
      "L1.urea_ee_bulk    -0.0112      0.004     -2.619      0.009      -0.020      -0.003\n",
      "L1.maize            0.0320      0.016      1.974      0.048       0.000       0.064\n",
      "Det. terms outside the coint. relation & lagged endog. parameters for equation soybeans\n",
      "===================================================================================\n",
      "                      coef    std err          z      P>|z|      [0.025      0.975]\n",
      "-----------------------------------------------------------------------------------\n",
      "const               3.4799      1.203      2.893      0.004       1.123       5.837\n",
      "L1.crude_brent      0.2273      0.202      1.125      0.260      -0.169       0.623\n",
      "L1.soybeans         0.0801      0.041      1.936      0.053      -0.001       0.161\n",
      "L1.gold            -0.0092      0.033     -0.275      0.783      -0.075       0.056\n",
      "L1.silver           0.6759      0.816      0.828      0.408      -0.924       2.276\n",
      "L1.urea_ee_bulk    -0.0251      0.024     -1.066      0.287      -0.071       0.021\n",
      "L1.maize            0.3052      0.089      3.426      0.001       0.131       0.480\n",
      "Det. terms outside the coint. relation & lagged endog. parameters for equation gold\n",
      "===================================================================================\n",
      "                      coef    std err          z      P>|z|      [0.025      0.975]\n",
      "-----------------------------------------------------------------------------------\n",
      "const               3.0969      1.821      1.700      0.089      -0.473       6.666\n",
      "L1.crude_brent      0.2317      0.306      0.758      0.449      -0.368       0.831\n",
      "L1.soybeans         0.0126      0.063      0.201      0.841      -0.110       0.135\n",
      "L1.gold             0.2042      0.051      4.041      0.000       0.105       0.303\n",
      "L1.silver           0.4933      1.236      0.399      0.690      -1.929       2.916\n",
      "L1.urea_ee_bulk    -0.1011      0.036     -2.837      0.005      -0.171      -0.031\n",
      "L1.maize            0.1904      0.135      1.412      0.158      -0.074       0.455\n",
      "Det. terms outside the coint. relation & lagged endog. parameters for equation silver\n",
      "===================================================================================\n",
      "                      coef    std err          z      P>|z|      [0.025      0.975]\n",
      "-----------------------------------------------------------------------------------\n",
      "const              -0.0311      0.074     -0.421      0.674      -0.176       0.114\n",
      "L1.crude_brent      0.0129      0.012      1.041      0.298      -0.011       0.037\n",
      "L1.soybeans         0.0029      0.003      1.160      0.246      -0.002       0.008\n",
      "L1.gold            -0.0018      0.002     -0.872      0.383      -0.006       0.002\n",
      "L1.silver           0.3305      0.050      6.600      0.000       0.232       0.429\n",
      "L1.urea_ee_bulk    -0.0015      0.001     -1.044      0.297      -0.004       0.001\n",
      "L1.maize            0.0036      0.005      0.657      0.511      -0.007       0.014\n",
      "Det. terms outside the coint. relation & lagged endog. parameters for equation urea_ee_bulk\n",
      "===================================================================================\n",
      "                      coef    std err          z      P>|z|      [0.025      0.975]\n",
      "-----------------------------------------------------------------------------------\n",
      "const             -10.9208      1.773     -6.161      0.000     -14.395      -7.447\n",
      "L1.crude_brent      1.5576      0.298      5.232      0.000       0.974       2.141\n",
      "L1.soybeans         0.0840      0.061      1.378      0.168      -0.036       0.204\n",
      "L1.gold             0.1045      0.049      2.126      0.034       0.008       0.201\n",
      "L1.silver          -3.5702      1.203     -2.968      0.003      -5.928      -1.212\n",
      "L1.urea_ee_bulk     0.2132      0.035      6.143      0.000       0.145       0.281\n",
      "L1.maize            0.1717      0.131      1.308      0.191      -0.086       0.429\n",
      "Det. terms outside the coint. relation & lagged endog. parameters for equation maize\n",
      "===================================================================================\n",
      "                      coef    std err          z      P>|z|      [0.025      0.975]\n",
      "-----------------------------------------------------------------------------------\n",
      "const               1.3002      0.529      2.460      0.014       0.264       2.336\n",
      "L1.crude_brent     -0.0019      0.089     -0.022      0.983      -0.176       0.172\n",
      "L1.soybeans         0.0242      0.018      1.329      0.184      -0.011       0.060\n",
      "L1.gold            -0.0302      0.015     -2.059      0.040      -0.059      -0.001\n",
      "L1.silver           0.5860      0.359      1.634      0.102      -0.117       1.289\n",
      "L1.urea_ee_bulk     0.0099      0.010      0.959      0.338      -0.010       0.030\n",
      "L1.maize            0.2185      0.039      5.582      0.000       0.142       0.295\n",
      "            Loading coefficients (alpha) for equation crude_brent             \n",
      "==============================================================================\n",
      "                 coef    std err          z      P>|z|      [0.025      0.975]\n",
      "------------------------------------------------------------------------------\n",
      "ec1           -0.0114      0.005     -2.326      0.020      -0.021      -0.002\n",
      "ec2            0.0076      0.002      3.414      0.001       0.003       0.012\n",
      "              Loading coefficients (alpha) for equation soybeans              \n",
      "==============================================================================\n",
      "                 coef    std err          z      P>|z|      [0.025      0.975]\n",
      "------------------------------------------------------------------------------\n",
      "ec1           -0.0252      0.027     -0.939      0.348      -0.078       0.027\n",
      "ec2           -0.0228      0.012     -1.855      0.064      -0.047       0.001\n",
      "                Loading coefficients (alpha) for equation gold                \n",
      "==============================================================================\n",
      "                 coef    std err          z      P>|z|      [0.025      0.975]\n",
      "------------------------------------------------------------------------------\n",
      "ec1            0.0423      0.041      1.040      0.298      -0.037       0.122\n",
      "ec2           -0.0234      0.019     -1.261      0.207      -0.060       0.013\n",
      "               Loading coefficients (alpha) for equation silver               \n",
      "==============================================================================\n",
      "                 coef    std err          z      P>|z|      [0.025      0.975]\n",
      "------------------------------------------------------------------------------\n",
      "ec1            0.0079      0.002      4.797      0.000       0.005       0.011\n",
      "ec2           -0.0022      0.001     -2.982      0.003      -0.004      -0.001\n",
      "            Loading coefficients (alpha) for equation urea_ee_bulk            \n",
      "==============================================================================\n",
      "                 coef    std err          z      P>|z|      [0.025      0.975]\n",
      "------------------------------------------------------------------------------\n",
      "ec1            0.0463      0.040      1.170      0.242      -0.031       0.124\n",
      "ec2            0.0947      0.018      5.238      0.000       0.059       0.130\n",
      "               Loading coefficients (alpha) for equation maize                \n",
      "==============================================================================\n",
      "                 coef    std err          z      P>|z|      [0.025      0.975]\n",
      "------------------------------------------------------------------------------\n",
      "ec1           -0.0737      0.012     -6.243      0.000      -0.097      -0.051\n",
      "ec2            0.0152      0.005      2.822      0.005       0.005       0.026\n",
      "          Cointegration relations for loading-coefficients-column 1           \n",
      "==============================================================================\n",
      "                 coef    std err          z      P>|z|      [0.025      0.975]\n",
      "------------------------------------------------------------------------------\n",
      "beta.1         1.0000          0          0      0.000       1.000       1.000\n",
      "beta.2      1.298e-17          0          0      0.000     1.3e-17     1.3e-17\n",
      "beta.3         0.0244      0.016      1.500      0.134      -0.007       0.056\n",
      "beta.4        -7.1416      0.040   -176.797      0.000      -7.221      -7.062\n",
      "beta.5        -0.4637      1.147     -0.404      0.686      -2.712       1.784\n",
      "beta.6         1.0414      2.845      0.366      0.714      -4.536       6.618\n",
      "          Cointegration relations for loading-coefficients-column 2           \n",
      "==============================================================================\n",
      "                 coef    std err          z      P>|z|      [0.025      0.975]\n",
      "------------------------------------------------------------------------------\n",
      "beta.1      6.649e-18          0          0      0.000    6.65e-18    6.65e-18\n",
      "beta.2         1.0000          0          0      0.000       1.000       1.000\n",
      "beta.3        -0.0860      0.050     -1.718      0.086      -0.184       0.012\n",
      "beta.4         4.8370      0.124     38.948      0.000       4.594       5.080\n",
      "beta.5        -0.9948      0.144     -6.917      0.000      -1.277      -0.713\n",
      "beta.6        -0.1641      0.357     -0.460      0.646      -0.864       0.535\n",
      "==============================================================================\n"
     ]
    }
   ],
   "source": [
    "print(vecm_fitted.summary())\n"
   ]
  },
  {
   "cell_type": "code",
   "execution_count": null,
   "metadata": {
    "id": "I95eYKL1WBC_"
   },
   "outputs": [],
   "source": []
  }
 ],
 "metadata": {
  "colab": {
   "provenance": []
  },
  "kernelspec": {
   "display_name": "Python 3 (ipykernel)",
   "language": "python",
   "name": "python3"
  },
  "language_info": {
   "codemirror_mode": {
    "name": "ipython",
    "version": 3
   },
   "file_extension": ".py",
   "mimetype": "text/x-python",
   "name": "python",
   "nbconvert_exporter": "python",
   "pygments_lexer": "ipython3",
   "version": "3.11.7"
  }
 },
 "nbformat": 4,
 "nbformat_minor": 4
}
